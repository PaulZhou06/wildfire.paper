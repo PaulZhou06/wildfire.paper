{
 "cells": [
  {
   "cell_type": "code",
   "execution_count": 2,
   "metadata": {},
   "outputs": [
    {
     "name": "stdout",
     "output_type": "stream",
     "text": [
      "### Generating data for 37141, Pender County\n"
     ]
    },
    {
     "name": "stderr",
     "output_type": "stream",
     "text": [
      "/Users/billibit/Projects/wildfire.paper/data_fill_up.ipynb:33: SettingWithCopyWarning: \n",
      "A value is trying to be set on a copy of a slice from a DataFrame\n",
      "\n",
      "See the caveats in the documentation: https://pandas.pydata.org/pandas-docs/stable/user_guide/indexing.html#returning-a-view-versus-a-copy\n",
      "  \"    print(f\\\"The file {target['file_name']} contains data {target_dataset.shape}\\\")\\n\",\n"
     ]
    },
    {
     "name": "stdout",
     "output_type": "stream",
     "text": [
      "Saved to Datasets/merged_tp_precip_wind_fmc_37141_Pender County.csv\n",
      "The file Datasets/merged_tp_precip_wind_fmc_37141_Pender County.csv contains data (0, 15)\n"
     ]
    },
    {
     "name": "stderr",
     "output_type": "stream",
     "text": [
      "/Users/billibit/Projects/wildfire.paper/data_fill_up.ipynb:27: DtypeWarning: Columns (10,12) have mixed types. Specify dtype option on import or set low_memory=False.\n",
      "  \"    filtered_rows = df[df[column_name] == value_to_find]\\n\",\n"
     ]
    },
    {
     "name": "stdout",
     "output_type": "stream",
     "text": [
      "The file Datasets/tp_zipcode_county.csv contains data (8438850, 16)\n",
      "The county 37141 has 0 rows of data in the Datasets/tp_zipcode_county.csv\n",
      "The county 37019 has 0 rows of data in the Datasets/tp_zipcode_county.csv\n",
      "The county 37047 has 0 rows of data in the Datasets/tp_zipcode_county.csv\n",
      "The county 37061 has 0 rows of data in the Datasets/tp_zipcode_county.csv\n",
      "The county 37129 has 2678 rows of data in the Datasets/tp_zipcode_county.csv\n",
      "The county 37133 has 0 rows of data in the Datasets/tp_zipcode_county.csv\n",
      "The county 37141 has 0 rows of data in the Datasets/tp_zipcode_county.csv\n",
      "The county 37163 has 0 rows of data in the Datasets/tp_zipcode_county.csv\n",
      "*** Using the adjacent county New Hanover County, 37129 of Pender County. It has 2678 rows of data in the Datasets/tp_zipcode_county.csv\n",
      "referral_dataset with fips 37129 = (2678, 16)\n",
      "Saved to Datasets/merged_tp_precip_wind_fmc_37141_Pender County.csv\n",
      "The file Datasets/merged_tp_precip_wind_fmc_37141_Pender County.csv contains data (0, 15)\n",
      "Saved to Datasets/merged_tp_precip_wind_fmc_37141_Pender County.csv\n",
      "### Generating data for 37143, Perquimans County\n"
     ]
    },
    {
     "name": "stderr",
     "output_type": "stream",
     "text": [
      "/Users/billibit/Projects/wildfire.paper/data_fill_up.ipynb:33: SettingWithCopyWarning: \n",
      "A value is trying to be set on a copy of a slice from a DataFrame\n",
      "\n",
      "See the caveats in the documentation: https://pandas.pydata.org/pandas-docs/stable/user_guide/indexing.html#returning-a-view-versus-a-copy\n",
      "  \"    print(f\\\"The file {target['file_name']} contains data {target_dataset.shape}\\\")\\n\",\n"
     ]
    },
    {
     "name": "stdout",
     "output_type": "stream",
     "text": [
      "Saved to Datasets/merged_tp_precip_wind_fmc_37143_Perquimans County.csv\n",
      "The file Datasets/merged_tp_precip_wind_fmc_37143_Perquimans County.csv contains data (0, 15)\n"
     ]
    },
    {
     "name": "stderr",
     "output_type": "stream",
     "text": [
      "/Users/billibit/Projects/wildfire.paper/data_fill_up.ipynb:27: DtypeWarning: Columns (10,12) have mixed types. Specify dtype option on import or set low_memory=False.\n",
      "  \"    filtered_rows = df[df[column_name] == value_to_find]\\n\",\n"
     ]
    },
    {
     "name": "stdout",
     "output_type": "stream",
     "text": [
      "The file Datasets/tp_zipcode_county.csv contains data (8438850, 16)\n",
      "The county 37143 has 0 rows of data in the Datasets/tp_zipcode_county.csv\n",
      "The county 37073 has 0 rows of data in the Datasets/tp_zipcode_county.csv\n",
      "The county 37139 has 3661 rows of data in the Datasets/tp_zipcode_county.csv\n",
      "The county 37143 has 0 rows of data in the Datasets/tp_zipcode_county.csv\n",
      "The county 37177 has 0 rows of data in the Datasets/tp_zipcode_county.csv\n",
      "The county 37187 has 0 rows of data in the Datasets/tp_zipcode_county.csv\n",
      "*** Using the adjacent county Pasquotank County, 37139 of Perquimans County. It has 3661 rows of data in the Datasets/tp_zipcode_county.csv\n",
      "referral_dataset with fips 37139 = (3661, 16)\n",
      "Saved to Datasets/merged_tp_precip_wind_fmc_37143_Perquimans County.csv\n",
      "The file Datasets/merged_tp_precip_wind_fmc_37143_Perquimans County.csv contains data (0, 15)\n",
      "Saved to Datasets/merged_tp_precip_wind_fmc_37143_Perquimans County.csv\n",
      "### Generating data for 37145, Person County\n"
     ]
    },
    {
     "name": "stderr",
     "output_type": "stream",
     "text": [
      "/Users/billibit/Projects/wildfire.paper/data_fill_up.ipynb:33: SettingWithCopyWarning: \n",
      "A value is trying to be set on a copy of a slice from a DataFrame\n",
      "\n",
      "See the caveats in the documentation: https://pandas.pydata.org/pandas-docs/stable/user_guide/indexing.html#returning-a-view-versus-a-copy\n",
      "  \"    print(f\\\"The file {target['file_name']} contains data {target_dataset.shape}\\\")\\n\",\n"
     ]
    },
    {
     "name": "stdout",
     "output_type": "stream",
     "text": [
      "Saved to Datasets/merged_tp_precip_wind_fmc_37145_Person County.csv\n",
      "The file Datasets/merged_tp_precip_wind_fmc_37145_Person County.csv contains data (0, 15)\n"
     ]
    },
    {
     "name": "stderr",
     "output_type": "stream",
     "text": [
      "/Users/billibit/Projects/wildfire.paper/data_fill_up.ipynb:27: DtypeWarning: Columns (10,12) have mixed types. Specify dtype option on import or set low_memory=False.\n",
      "  \"    filtered_rows = df[df[column_name] == value_to_find]\\n\",\n"
     ]
    },
    {
     "name": "stdout",
     "output_type": "stream",
     "text": [
      "The file Datasets/tp_zipcode_county.csv contains data (8438850, 16)\n",
      "The county 37145 has 0 rows of data in the Datasets/tp_zipcode_county.csv\n",
      "The county 37063 has 0 rows of data in the Datasets/tp_zipcode_county.csv\n",
      "The county 37077 has 0 rows of data in the Datasets/tp_zipcode_county.csv\n",
      "The county 37135 has 2187 rows of data in the Datasets/tp_zipcode_county.csv\n",
      "The county 37145 has 0 rows of data in the Datasets/tp_zipcode_county.csv\n",
      "The county 51083 has 0 rows of data in the Datasets/tp_zipcode_county.csv\n",
      "*** Using the adjacent county Orange County, 37135 of Person County. It has 2187 rows of data in the Datasets/tp_zipcode_county.csv\n",
      "referral_dataset with fips 37135 = (2187, 16)\n",
      "Saved to Datasets/merged_tp_precip_wind_fmc_37145_Person County.csv\n",
      "The file Datasets/merged_tp_precip_wind_fmc_37145_Person County.csv contains data (0, 15)\n",
      "Saved to Datasets/merged_tp_precip_wind_fmc_37145_Person County.csv\n",
      "### Generating data for 37147, Pitt County\n"
     ]
    },
    {
     "name": "stderr",
     "output_type": "stream",
     "text": [
      "/Users/billibit/Projects/wildfire.paper/data_fill_up.ipynb:33: SettingWithCopyWarning: \n",
      "A value is trying to be set on a copy of a slice from a DataFrame\n",
      "\n",
      "See the caveats in the documentation: https://pandas.pydata.org/pandas-docs/stable/user_guide/indexing.html#returning-a-view-versus-a-copy\n",
      "  \"    print(f\\\"The file {target['file_name']} contains data {target_dataset.shape}\\\")\\n\",\n"
     ]
    },
    {
     "name": "stdout",
     "output_type": "stream",
     "text": [
      "Saved to Datasets/merged_tp_precip_wind_fmc_37147_Pitt County.csv\n",
      "The file Datasets/merged_tp_precip_wind_fmc_37147_Pitt County.csv contains data (0, 15)\n"
     ]
    },
    {
     "name": "stderr",
     "output_type": "stream",
     "text": [
      "/Users/billibit/Projects/wildfire.paper/data_fill_up.ipynb:27: DtypeWarning: Columns (10,12) have mixed types. Specify dtype option on import or set low_memory=False.\n",
      "  \"    filtered_rows = df[df[column_name] == value_to_find]\\n\",\n"
     ]
    },
    {
     "name": "stdout",
     "output_type": "stream",
     "text": [
      "The file Datasets/tp_zipcode_county.csv contains data (8438850, 16)\n",
      "The county 37147 has 0 rows of data in the Datasets/tp_zipcode_county.csv\n",
      "The county 37049 has 2673 rows of data in the Datasets/tp_zipcode_county.csv\n",
      "The county 37065 has 0 rows of data in the Datasets/tp_zipcode_county.csv\n",
      "The county 37079 has 0 rows of data in the Datasets/tp_zipcode_county.csv\n",
      "The county 37107 has 0 rows of data in the Datasets/tp_zipcode_county.csv\n",
      "The county 37117 has 0 rows of data in the Datasets/tp_zipcode_county.csv\n",
      "The county 37147 has 0 rows of data in the Datasets/tp_zipcode_county.csv\n",
      "The county 37195 has 0 rows of data in the Datasets/tp_zipcode_county.csv\n",
      "*** Using the adjacent county Craven County, 37049 of Pitt County. It has 2673 rows of data in the Datasets/tp_zipcode_county.csv\n",
      "referral_dataset with fips 37049 = (2673, 16)\n",
      "Saved to Datasets/merged_tp_precip_wind_fmc_37147_Pitt County.csv\n",
      "The file Datasets/merged_tp_precip_wind_fmc_37147_Pitt County.csv contains data (0, 15)\n",
      "Saved to Datasets/merged_tp_precip_wind_fmc_37147_Pitt County.csv\n",
      "### Generating data for 37149, Polk County\n"
     ]
    },
    {
     "name": "stderr",
     "output_type": "stream",
     "text": [
      "/Users/billibit/Projects/wildfire.paper/data_fill_up.ipynb:33: SettingWithCopyWarning: \n",
      "A value is trying to be set on a copy of a slice from a DataFrame\n",
      "\n",
      "See the caveats in the documentation: https://pandas.pydata.org/pandas-docs/stable/user_guide/indexing.html#returning-a-view-versus-a-copy\n",
      "  \"    print(f\\\"The file {target['file_name']} contains data {target_dataset.shape}\\\")\\n\",\n"
     ]
    },
    {
     "name": "stdout",
     "output_type": "stream",
     "text": [
      "Saved to Datasets/merged_tp_precip_wind_fmc_37149_Polk County.csv\n",
      "The file Datasets/merged_tp_precip_wind_fmc_37149_Polk County.csv contains data (0, 15)\n"
     ]
    },
    {
     "name": "stderr",
     "output_type": "stream",
     "text": [
      "/Users/billibit/Projects/wildfire.paper/data_fill_up.ipynb:27: DtypeWarning: Columns (10,12) have mixed types. Specify dtype option on import or set low_memory=False.\n",
      "  \"    filtered_rows = df[df[column_name] == value_to_find]\\n\",\n"
     ]
    },
    {
     "name": "stdout",
     "output_type": "stream",
     "text": [
      "The file Datasets/tp_zipcode_county.csv contains data (8438850, 16)\n",
      "The county 37149 has 0 rows of data in the Datasets/tp_zipcode_county.csv\n",
      "The county 37149 has 0 rows of data in the Datasets/tp_zipcode_county.csv\n",
      "The county 37161 has 0 rows of data in the Datasets/tp_zipcode_county.csv\n",
      "The county 45045 has 2276 rows of data in the Datasets/tp_zipcode_county.csv\n",
      "The county 45083 has 3681 rows of data in the Datasets/tp_zipcode_county.csv\n",
      "*** Using the adjacent county Spartanburg County, 45083 of Polk County. It has 3681 rows of data in the Datasets/tp_zipcode_county.csv\n",
      "referral_dataset with fips 45083 = (3681, 16)\n",
      "Saved to Datasets/merged_tp_precip_wind_fmc_37149_Polk County.csv\n",
      "The file Datasets/merged_tp_precip_wind_fmc_37149_Polk County.csv contains data (0, 15)\n",
      "Saved to Datasets/merged_tp_precip_wind_fmc_37149_Polk County.csv\n",
      "### Generating data for 37151, Randolph County\n"
     ]
    },
    {
     "name": "stderr",
     "output_type": "stream",
     "text": [
      "/Users/billibit/Projects/wildfire.paper/data_fill_up.ipynb:183: SettingWithCopyWarning: \n",
      "A value is trying to be set on a copy of a slice from a DataFrame.\n",
      "Try using .loc[row_indexer,col_indexer] = value instead\n",
      "\n",
      "See the caveats in the documentation: https://pandas.pydata.org/pandas-docs/stable/user_guide/indexing.html#returning-a-view-versus-a-copy\n",
      "  \"\\n\",\n",
      "/Users/billibit/Projects/wildfire.paper/data_fill_up.ipynb:184: SettingWithCopyWarning: \n",
      "A value is trying to be set on a copy of a slice from a DataFrame.\n",
      "Try using .loc[row_indexer,col_indexer] = value instead\n",
      "\n",
      "See the caveats in the documentation: https://pandas.pydata.org/pandas-docs/stable/user_guide/indexing.html#returning-a-view-versus-a-copy\n",
      "  \"    fire_data = pd.read_csv(\\\"Datasets/aggregated_wildfire.csv\\\")\\n\",\n",
      "/Users/billibit/Projects/wildfire.paper/data_fill_up.ipynb:185: SettingWithCopyWarning: \n",
      "A value is trying to be set on a copy of a slice from a DataFrame.\n",
      "Try using .loc[row_indexer,col_indexer] = value instead\n",
      "\n",
      "See the caveats in the documentation: https://pandas.pydata.org/pandas-docs/stable/user_guide/indexing.html#returning-a-view-versus-a-copy\n",
      "  \"    # Create a new DataFrame containing only rows with the specific value\\n\",\n",
      "/Users/billibit/Projects/wildfire.paper/data_fill_up.ipynb:186: SettingWithCopyWarning: \n",
      "A value is trying to be set on a copy of a slice from a DataFrame.\n",
      "Try using .loc[row_indexer,col_indexer] = value instead\n",
      "\n",
      "See the caveats in the documentation: https://pandas.pydata.org/pandas-docs/stable/user_guide/indexing.html#returning-a-view-versus-a-copy\n",
      "  \"    firedata_fips = filter_dataframe_by_value(fire_data, 'FIPS', target[\\\"fips\\\"])\\n\",\n",
      "/Users/billibit/Projects/wildfire.paper/data_fill_up.ipynb:187: SettingWithCopyWarning: \n",
      "A value is trying to be set on a copy of a slice from a DataFrame.\n",
      "Try using .loc[row_indexer,col_indexer] = value instead\n",
      "\n",
      "See the caveats in the documentation: https://pandas.pydata.org/pandas-docs/stable/user_guide/indexing.html#returning-a-view-versus-a-copy\n",
      "  \"    #new columns for merged features\\n\",\n",
      "/Users/billibit/Projects/wildfire.paper/data_fill_up.ipynb:188: SettingWithCopyWarning: \n",
      "A value is trying to be set on a copy of a slice from a DataFrame.\n",
      "Try using .loc[row_indexer,col_indexer] = value instead\n",
      "\n",
      "See the caveats in the documentation: https://pandas.pydata.org/pandas-docs/stable/user_guide/indexing.html#returning-a-view-versus-a-copy\n",
      "  \"    firedata_fips[\\\"tmax\\\"] = pd.NA\\n\",\n",
      "/Users/billibit/Projects/wildfire.paper/data_fill_up.ipynb:33: SettingWithCopyWarning: \n",
      "A value is trying to be set on a copy of a slice from a DataFrame\n",
      "\n",
      "See the caveats in the documentation: https://pandas.pydata.org/pandas-docs/stable/user_guide/indexing.html#returning-a-view-versus-a-copy\n",
      "  \"    print(f\\\"The file {target['file_name']} contains data {target_dataset.shape}\\\")\\n\",\n"
     ]
    },
    {
     "name": "stdout",
     "output_type": "stream",
     "text": [
      "Saved to Datasets/merged_tp_precip_wind_fmc_37151_Randolph County.csv\n",
      "The file Datasets/merged_tp_precip_wind_fmc_37151_Randolph County.csv contains data (14, 15)\n"
     ]
    },
    {
     "name": "stderr",
     "output_type": "stream",
     "text": [
      "/Users/billibit/Projects/wildfire.paper/data_fill_up.ipynb:27: DtypeWarning: Columns (10,12) have mixed types. Specify dtype option on import or set low_memory=False.\n",
      "  \"    filtered_rows = df[df[column_name] == value_to_find]\\n\",\n"
     ]
    },
    {
     "name": "stdout",
     "output_type": "stream",
     "text": [
      "The file Datasets/tp_zipcode_county.csv contains data (8438850, 16)\n",
      "The county 37151 has 0 rows of data in the Datasets/tp_zipcode_county.csv\n",
      "The county 37037 has 0 rows of data in the Datasets/tp_zipcode_county.csv\n",
      "The county 37057 has 0 rows of data in the Datasets/tp_zipcode_county.csv\n",
      "The county 37081 has 3681 rows of data in the Datasets/tp_zipcode_county.csv\n",
      "The county 37123 has 0 rows of data in the Datasets/tp_zipcode_county.csv\n",
      "The county 37125 has 0 rows of data in the Datasets/tp_zipcode_county.csv\n",
      "The county 37151 has 0 rows of data in the Datasets/tp_zipcode_county.csv\n",
      "*** Using the adjacent county Guilford County, 37081 of Randolph County. It has 3681 rows of data in the Datasets/tp_zipcode_county.csv\n",
      "referral_dataset with fips 37081 = (3681, 16)\n",
      "Add data to the original 2015-02-14 00:00:00 <- 20150214  delta days 0: \n",
      "prcp = 0.0\n",
      "tmax = 111.0\n",
      "tmin = -71.0\n",
      "tavg = -1.0\n",
      "Add data to the original 2015-03-31 00:00:00 <- 20150331  delta days 0: \n",
      "prcp = 0.0\n",
      "tmax = 233.0\n",
      "tmin = 33.0\n",
      "tavg = 139.0\n",
      "Add data to the original 2014-07-08 00:00:00 <- 20140708  delta days 0: \n",
      "prcp = 0.0\n",
      "tmax = 344.0\n",
      "tmin = 217.0\n",
      "tavg = 279.0\n",
      "Add data to the original 2002-03-10 00:00:00 <- 20020310  delta days 0: \n",
      "prcp = 0.0\n",
      "tmax = 156.0\n",
      "tmin = 39.0\n",
      "tavg = 100.0\n",
      "Add data to the original 2013-04-10 00:00:00 <- 20130410  delta days 0: \n",
      "prcp = 0.0\n",
      "tmax = 294.0\n",
      "tmin = 156.0\n",
      "tavg = 226.0\n",
      "Add data to the original 2013-04-09 00:00:00 <- 20130409  delta days 0: \n",
      "prcp = 0.0\n",
      "tmax = 289.0\n",
      "tmin = 128.0\n",
      "tavg = 203.0\n",
      "Add data to the original 2002-03-11 00:00:00 <- 20020311  delta days 0: \n",
      "prcp = 0.0\n",
      "tmax = 128.0\n",
      "tmin = -28.0\n",
      "tavg = 50.0\n",
      "Saved to Datasets/merged_tp_precip_wind_fmc_37151_Randolph County.csv\n",
      "The file Datasets/merged_tp_precip_wind_fmc_37151_Randolph County.csv contains data (14, 15)\n",
      "The file Datasets/wind_with_fips.csv contains data (3272653, 9)\n",
      "The county 37151 has 0 rows of data in the Datasets/wind_with_fips.csv\n",
      "The county 37037 has 10523 rows of data in the Datasets/wind_with_fips.csv\n",
      "The county 37057 has 0 rows of data in the Datasets/wind_with_fips.csv\n",
      "The county 37081 has 0 rows of data in the Datasets/wind_with_fips.csv\n",
      "The county 37123 has 0 rows of data in the Datasets/wind_with_fips.csv\n",
      "The county 37125 has 0 rows of data in the Datasets/wind_with_fips.csv\n",
      "The county 37151 has 0 rows of data in the Datasets/wind_with_fips.csv\n",
      "*** Using the adjacent county Chatham County, 37037 of Randolph County. It has 10523 rows of data in the Datasets/wind_with_fips.csv\n",
      "referral_dataset with fips 37037 = (10523, 9)\n",
      "Add data to the original 2015-02-14 00:00:00 <- 2015-02-14  delta days 0: \n",
      "aws = 6.874318\n",
      "Add data to the original 2015-03-31 00:00:00 <- 2015-03-31  delta days 0: \n",
      "aws = 4.5294175\n",
      "Add data to the original 2014-07-08 00:00:00 <- 2014-07-08  delta days 0: \n",
      "aws = 4.579625\n",
      "Add data to the original 2012-02-10 00:00:00 <- 2012-02-10  delta days 0: \n",
      "aws = 2.739072\n",
      "Add data to the original 2006-04-07 00:00:00 <- 2006-04-07  delta days 0: \n",
      "aws = 5.246900599999999\n",
      "Add data to the original 2012-11-02 00:00:00 <- 2012-11-02  delta days 0: \n",
      "aws = 5.8240914\n",
      "Add data to the original 2002-03-10 00:00:00 <- 2002-03-10  delta days 0: \n",
      "aws = 6.440288\n",
      "Add data to the original 2012-02-12 00:00:00 <- 2012-02-12  delta days 0: \n",
      "aws = 10.666626\n",
      "Add data to the original 2013-04-10 00:00:00 <- 2013-04-10  delta days 0: \n",
      "aws = 4.048501\n",
      "Add data to the original 2012-11-01 00:00:00 <- 2012-11-01  delta days 0: \n",
      "aws = 7.789673\n",
      "Add data to the original 2012-02-11 00:00:00 <- 2012-02-11  delta days 0: \n",
      "aws = 9.829212\n",
      "Add data to the original 2013-04-09 00:00:00 <- 2013-04-09  delta days 0: \n",
      "aws = 3.7944467\n",
      "Add data to the original 2006-03-05 00:00:00 <- 2006-03-05  delta days 0: \n",
      "aws = 3.1324816\n",
      "Add data to the original 2002-03-11 00:00:00 <- 2002-03-11  delta days 0: \n",
      "aws = 6.855372\n",
      "Saved to Datasets/merged_tp_precip_wind_fmc_37151_Randolph County.csv\n",
      "The file Datasets/merged_tp_precip_wind_fmc_37151_Randolph County.csv contains data (14, 15)\n",
      "The file Datasets/fuel_with_fips.csv contains data (67172, 9)\n",
      "The county 37151 has 0 rows of data in the Datasets/fuel_with_fips.csv\n",
      "The county 37037 has 0 rows of data in the Datasets/fuel_with_fips.csv\n",
      "The county 37057 has 0 rows of data in the Datasets/fuel_with_fips.csv\n",
      "The county 37081 has 0 rows of data in the Datasets/fuel_with_fips.csv\n",
      "The county 37123 has 0 rows of data in the Datasets/fuel_with_fips.csv\n",
      "The county 37125 has 0 rows of data in the Datasets/fuel_with_fips.csv\n",
      "The county 37151 has 0 rows of data in the Datasets/fuel_with_fips.csv\n",
      "!!! ### !!! Neither the given county nor its adjcent counties exist in the referral dataset. Exits the program.\n",
      "The file Datasets/merged_tp_precip_wind_fmc_37151_Randolph County.csv contains data (14, 15)\n",
      "Saved to Datasets/merged_tp_precip_wind_fmc_37151_Randolph County.csv\n"
     ]
    }
   ],
   "source": [
    "# Define the important variables here\n",
    "import json\n",
    "import os\n",
    "import pandas as pd\n",
    "\n",
    "# Import the main functions \n",
    "from ipynb.fs.full.data_fill_up import *\n",
    "\n",
    "target = {\n",
    "    \"fips\": 6093,\n",
    "    \"target_county_name\": \"Siskiyou\",\n",
    "    \"date_column_name\": \"DATE\",\n",
    "    \"datetime_format\": \"%Y%m%d\",\n",
    "    \"file_name\": \"\",\n",
    "    \"target_data_field_name\": \"prcp\"\n",
    "}\n",
    "target['file_name'] = f\"Datasets/merged_tp_precip_wind_fmc_{target['target_county_name']}.csv\"\n",
    "\n",
    "# Use the adjacent county of the target county to find referral data like aws or fmc\n",
    "# Use the following link to find the adjacent county\n",
    "# https://gis.data.ca.gov/datasets/8713ced9b78a4abb97dc130a691a8695/explore?location=39.765076%2C-121.456785%2C8.00\n",
    "\n",
    "# prcp\n",
    "prcp_referral = {\n",
    "    \"fips_code\": 6093,\n",
    "    \"referral_county_name\": \"Siskiyou\",\n",
    "    \"fips_column_name\": \"county_fips\",\n",
    "    \"date_column_name\": \"date\",\n",
    "    \"datetime_format\": \"%Y%m%d\",\n",
    "    \"file_name\": \"Datasets/tp_zipcode_county.csv\",\n",
    "    \"data_fields_to_be_copied\": [\"prcp\", \"tmax\", \"tmin\", \"tavg\"]\n",
    "}\n",
    "\n",
    "# Wind aws\n",
    "wind_aws_referral = {\n",
    "    \"fips_code\": 6093,\n",
    "    \"referral_county_name\": \"Siskiyou\",\n",
    "    \"fips_column_name\": \"fips\",\n",
    "    \"date_column_name\": \"date\",\n",
    "    \"datetime_format\": \"%Y-%m-%d\",\n",
    "    \"file_name\": \"Datasets/wind_with_fips.csv\",\n",
    "    \"data_fields_to_be_copied\": [\"aws\"]\n",
    "}\n",
    "\n",
    "# fuel moisture content \n",
    "fmc_referral = {\n",
    "    \"fips_code\": 6093,\n",
    "    \"referral_county_name\": \"Siskiyou\",\n",
    "    \"fips_column_name\": \"fips\",\n",
    "    \"date_column_name\": \"date\",\n",
    "    \"datetime_format\": \"%Y-%m-%d\",\n",
    "    \"file_name\": \"Datasets/fuel_with_fips.csv\",\n",
    "    \"data_fields_to_be_copied\": [\"percent\"]\n",
    "}\n",
    "\n",
    "# Put the county target here\n",
    "#my_fips = 6093\n",
    "#my_county_name = \"Siskiyou\"\n",
    "#my_fips = 6105\n",
    "#my_county_name = \"Trinity\"\n",
    "#my_fips = 4005\n",
    "#my_county_name = \"Coconino\"\n",
    "#my_fips = 16035\n",
    "#my_county_name = \"Clearwater\"\n",
    "#my_fips = 16085\n",
    "#my_county_name = \"Valley\"\n",
    "#my_fips = 4015\n",
    "#my_county_name = \"Mohave\"\n",
    "#my_fips = 2290\n",
    "#my_county_name = \"Yukon-Koyukuk\"\n",
    "my_fips = 16049\n",
    "my_county_name = \"Idaho\"\n",
    "\n",
    "# Config\n",
    "\n",
    "def setup_county_config(my_fips, my_county_name):\n",
    "    target[\"fips\"] = my_fips\n",
    "    target[\"target_county_name\"] = my_county_name\n",
    "    target['file_name'] = f\"Datasets/merged_tp_precip_wind_fmc_{my_fips}_{target['target_county_name']}.csv\"\n",
    "\n",
    "    prcp_referral[\"fips_code\"] = my_fips\n",
    "    prcp_referral[\"referral_county_name\"] = my_county_name\n",
    "    wind_aws_referral[\"fips_code\"] = my_fips\n",
    "    wind_aws_referral[\"referral_county_name\"] = my_county_name\n",
    "    fmc_referral[\"fips_code\"] = my_fips\n",
    "    fmc_referral[\"referral_county_name\"] = my_county_name\n",
    "\n",
    "def generate_one():\n",
    "    generate_csv_for_fips(target)\n",
    "    if ( merge_data_referral_to_target(target, prcp_referral) > 0) :\n",
    "        if ( merge_data_referral_to_target(target, wind_aws_referral) > 0):\n",
    "            merge_data_referral_to_target(target, fmc_referral)\n",
    "    drop_ana(target)\n",
    "\n",
    "def get_row_count(csv_file_name):\n",
    "        df = pd.read_csv(csv_file_name)\n",
    "        return df.shape[0]\n",
    "\n",
    "def generate_all(tracing_file):\n",
    "    status_tracing_df = pd.read_csv(tracing_file)\n",
    "    # Loop through the dataframe and change the column value on each row\n",
    "    for i in range(len(status_tracing_df)):\n",
    "        # Check if it is 1, means to generate; otherwise skip this row\n",
    "        if ( status_tracing_df.loc[i, 'to_generate'] != 1):\n",
    "            continue\n",
    "        print(f\"### Generating data for {status_tracing_df.loc[i, 'fips']}, {status_tracing_df.loc[i, 'county_name']}\")\n",
    "        # Setup a config for the county\n",
    "        setup_county_config( status_tracing_df.loc[i, 'fips'], status_tracing_df.loc[i, 'county_name'])\n",
    "        # Generate the data for the county\n",
    "        generate_one()\n",
    "        # Save the status \n",
    "        status_tracing_df.loc[i, 'status'] = 1\n",
    "        status_tracing_df.loc[i, 'to_generate'] = 0\n",
    "        row_count = get_row_count(target['file_name'])\n",
    "        status_tracing_df.loc[i, 'generated_row_count'] = row_count\n",
    "        if (row_count <= 0):\n",
    "            # Delete the file if no rows\n",
    "            os.remove(target['file_name'])\n",
    "            status_tracing_df.loc[i, 'file_name'] = ''\n",
    "        else:\n",
    "            status_tracing_df.loc[i, 'file_name'] = target['file_name']\n",
    "        save_df = status_tracing_df.copy()\n",
    "        save_df.drop(save_df.filter(regex=\"Unname\"),axis=1, inplace=True)\n",
    "        save_df.to_csv( tracing_file)\n",
    "#\n",
    "# Main program\n",
    "#\n",
    "#  \n",
    "tracing_file = \"Datasets/data_generation_status.csv\"\n",
    "generate_all(tracing_file)"
   ]
  },
  {
   "cell_type": "code",
   "execution_count": null,
   "metadata": {},
   "outputs": [],
   "source": []
  }
 ],
 "metadata": {
  "kernelspec": {
   "display_name": "Python 3 (ipykernel)",
   "language": "python",
   "name": "python3"
  },
  "language_info": {
   "codemirror_mode": {
    "name": "ipython",
    "version": 3
   },
   "file_extension": ".py",
   "mimetype": "text/x-python",
   "name": "python",
   "nbconvert_exporter": "python",
   "pygments_lexer": "ipython3",
   "version": "3.8.2"
  }
 },
 "nbformat": 4,
 "nbformat_minor": 4
}
