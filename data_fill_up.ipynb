{
 "cells": [
  {
   "cell_type": "code",
   "execution_count": null,
   "metadata": {},
   "outputs": [],
   "source": [
    "import pandas as pd\n",
    "import datetime\n",
    "from datetime import datetime\n",
    "from datetime import timedelta\n",
    "\n",
    "# Define the important variables here\n",
    "target_fips = 6049\n",
    "target_county_name = \"Modoc\"\n",
    "target_data_file_name = f\"Datasets/merged_tp_precip_wind_fmc_{target_county_name}.csv\"\n",
    "\n",
    "referral_fips = 6035\n",
    "referral_country_name = \"Lassen\"\n",
    "\n",
    "# Load the target county data\n",
    "fire_data = pd.read_csv(target_data_file_name)\n",
    "print(f\"The dataset {target_data_file_name} contains (row, column) = \")\n",
    "print(fire_data.shape)\n",
    "\n",
    "# Initial the wind csv\n",
    "wind = pd.read_csv(\"Datasets/wind_with_fips.csv\")\n",
    "\n",
    "referral_count = wind['county'].str.contains(referral_country_name).sum()\n",
    "print(f\"The referral county {referral_country_name} has {referral_count} rows of data in the wind_with_fips.csv\")\n",
    "    \n",
    "# If not data found, exit the program\n",
    "if ( int(referral_count) <= 0):\n",
    "    quit()\n",
    "    \n",
    "# Extract the whole volume \n",
    "def filter_dataframe_by_value(df, column_name, value_to_find):\n",
    "    filtered_rows = df[df[column_name] == value_to_find]\n",
    "    return filtered_rows\n",
    "\n",
    "if __name__ == \"__main__\":\n",
    "\n",
    "    # Create a new DataFrame containing only rows with the specific value\n",
    "    wind_referral = filter_dataframe_by_value(wind, 'fips', referral_fips)\n",
    "\n",
    "# Add the new column here\n",
    "def merge_dataframes_on_match(df1, df2, df1_column1, df2_column1, df2_column_to_sum1, df2_column_to_sum2):\n",
    "    for index1, row1 in df1.iterrows():\n",
    "        for index2, row2 in df2.iterrows():\n",
    "            row1_datetime = datetime.strptime(str(row1[df1_column1]),  \"%Y%m%d\")\n",
    "            row2_datetime = datetime.strptime(row2[df2_column1], \"%Y-%m-%d\")\n",
    "            delta_days = (row1_datetime - row2_datetime).days\n",
    "            print(f\"Found a row with diff days {delta_days} between {row1_datetime} and {row2_datetime}\")\n",
    "            if delta_days < 50:\n",
    "                print(f\"Add data to the original : {row2[df2_column_to_sum1]}\")\n",
    "                df1.at[index1, df2_column_to_sum1] = row2[df2_column_to_sum1]\n",
    "                #df1.at[index1, df2_column_to_sum2] = row2[df2_column_to_sum2]\n",
    "                break\n",
    "\n",
    "merge_dataframes_on_match(fire_data, wind_referral.sort_values(\"date\"), 'DATE', 'date', 'aws', 'prcp')\n",
    "\n",
    "# Save the data to its original file\n",
    "fire_data.to_csv(target_data_file_name)\n"
   ]
  },
  {
   "cell_type": "code",
   "execution_count": null,
   "metadata": {},
   "outputs": [],
   "source": []
  }
 ],
 "metadata": {
  "kernelspec": {
   "display_name": "Python 3 (ipykernel)",
   "language": "python",
   "name": "python3"
  },
  "language_info": {
   "codemirror_mode": {
    "name": "ipython",
    "version": 3
   },
   "file_extension": ".py",
   "mimetype": "text/x-python",
   "name": "python",
   "nbconvert_exporter": "python",
   "pygments_lexer": "ipython3",
   "version": "3.8.2"
  }
 },
 "nbformat": 4,
 "nbformat_minor": 4
}
