{
 "cells": [
  {
   "cell_type": "code",
   "execution_count": null,
   "metadata": {},
   "outputs": [],
   "source": [
    "# Define the important variables here\n",
    "import pandas as pd\n",
    "import os\n",
    "#\n",
    "# Main program\n",
    "#\n",
    "#  \n",
    "def combine_data(tracing_file, combined_file):\n",
    "\n",
    "    csv_files = []\n",
    "    status_tracing_df = pd.read_csv(tracing_file)\n",
    "    # Loop through the dataframe and change the column value on each row\n",
    "    for i in range(len(status_tracing_df)):\n",
    "        # Check if it is 1 \n",
    "        if ( status_tracing_df.loc[i, 'status'] != 1):\n",
    "            continue\n",
    "        file_name = status_tracing_df.loc[i, 'file_name']\n",
    "        #print(file_name,  (len(str(file_name))))\n",
    "        if (len(str(file_name)) > 4) and (os.path.isfile( file_name)):\n",
    "            print(f\"Adding {file_name} to the list\")\n",
    "            csv_files.append( file_name)\n",
    "\n",
    "    if ( len( csv_files) > 0): \n",
    "        print(f\"Combining {len( csv_files)} files ... \")\n",
    "        save_df = pd.concat(map(pd.read_csv, csv_files), ignore_index=True)\n",
    "        save_df.drop(save_df.filter(regex=\"Unname\"),axis=1, inplace=True)\n",
    "        save_df.to_csv(combined_file)\n",
    "\n",
    "tracing_file = \"Datasets/data_generation_status.csv\"\n",
    "combined_file = \"Datasets/merged_tp_precip_wind_fmc_all.csv\"\n",
    "combine_data(tracing_file, combined_file)"
   ]
  },
  {
   "cell_type": "code",
   "execution_count": null,
   "metadata": {},
   "outputs": [],
   "source": []
  }
 ],
 "metadata": {
  "kernelspec": {
   "display_name": "Python 3 (ipykernel)",
   "language": "python",
   "name": "python3"
  },
  "language_info": {
   "codemirror_mode": {
    "name": "ipython",
    "version": 3
   },
   "file_extension": ".py",
   "mimetype": "text/x-python",
   "name": "python",
   "nbconvert_exporter": "python",
   "pygments_lexer": "ipython3",
   "version": "3.8.2"
  }
 },
 "nbformat": 4,
 "nbformat_minor": 4
}
