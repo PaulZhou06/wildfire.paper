{
 "cells": [
  {
   "cell_type": "code",
   "execution_count": null,
   "metadata": {},
   "outputs": [],
   "source": [
    "#Try\n",
    "python -m notebook\n",
    "\n",
    "#Or, if you used pip3 to install the notebook:\n",
    "\n",
    "python3 -m notebook\n",
    "\n",
    "#On Mac OS Catalina and brewed Python3.7"
   ]
  },
  {
   "cell_type": "code",
   "execution_count": null,
   "metadata": {},
   "outputs": [],
   "source": [
    "# Run the following comments to setup the python env \n",
    "# if you don't have python installed, pleaset install it first \n",
    "!/usr/bin/python3 -m pip install ipykernel -U --user --force-reinstall\n",
    "!pip install pandas\n",
    "!pip install geopy\n",
    "%pip install ipynb\n",
    "\n"
   ]
  }
 ],
 "metadata": {
  "kernelspec": {
   "display_name": "Python 3",
   "language": "python",
   "name": "python3"
  },
  "language_info": {
   "codemirror_mode": {
    "name": "ipython",
    "version": 3
   },
   "file_extension": ".py",
   "mimetype": "text/x-python",
   "name": "python",
   "nbconvert_exporter": "python",
   "pygments_lexer": "ipython3",
   "version": "3.11.0"
  },
  "orig_nbformat": 4
 },
 "nbformat": 4,
 "nbformat_minor": 2
}
