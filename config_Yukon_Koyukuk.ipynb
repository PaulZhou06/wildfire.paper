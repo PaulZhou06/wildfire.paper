{
 "cells": [
  {
   "cell_type": "code",
   "execution_count": 1,
   "metadata": {},
   "outputs": [],
   "source": [
    "# Define the important variables here\n",
    "import json\n",
    "\n",
    "target = {\n",
    "    \"fips\": 2290,\n",
    "    \"target_county_name\": \"Yukon-Koyukuk\",\n",
    "    \"date_column_name\": \"DATE\",\n",
    "    \"datetime_format\": \"%Y%m%d\",\n",
    "    \"file_name\": \"\",\n",
    "    \"target_data_field_name\": \"prcp\"\n",
    "}\n",
    "target['file_name'] = f\"Datasets/merged_tp_precip_wind_fmc_{target['target_county_name']}.csv\"\n",
    "\n",
    "# Use the adjacent county of the target county to find referral data like aws or fmc\n",
    "# Use the following link to find the adjacent county\n",
    "# https://gis.data.ca.gov/datasets/8713ced9b78a4abb97dc130a691a8695/explore?location=39.765076%2C-121.456785%2C8.00\n",
    "\n",
    "# prcp\n",
    "prcp_referral = {\n",
    "    \"fips_code\": 2290,\n",
    "    \"referral_county_name\": \"Yukon-Koyukuk\",\n",
    "    \"fips_column_name\": \"county_fips\",\n",
    "    \"date_column_name\": \"date\",\n",
    "    \"datetime_format\": \"%Y%m%d\",\n",
    "    \"file_name\": \"Datasets/tp_zipcode_county.csv\",\n",
    "    \"data_fields_to_be_copied\": [\"prcp\", \"tmax\", \"tmin\", \"tavg\"]\n",
    "}\n",
    "\n",
    "# Wind aws\n",
    "wind_aws_referral = {\n",
    "    \"fips_code\": 2068,\n",
    "    \"referral_county_name\": \"Denali Borough\",\n",
    "    \"fips_column_name\": \"fips\",\n",
    "    \"date_column_name\": \"date\",\n",
    "    \"datetime_format\": \"%Y-%m-%d\",\n",
    "    \"file_name\": \"Datasets/wind_with_fips.csv\",\n",
    "    \"data_fields_to_be_copied\": [\"aws\"]\n",
    "}\n",
    "\n",
    "# fuel moisture content \n",
    "fmc_referral = {\n",
    "    \"fips_code\": 2290,\n",
    "    \"referral_county_name\": \"Yukon-Koyukuk\",\n",
    "    \"fips_column_name\": \"fips\",\n",
    "    \"date_column_name\": \"date\",\n",
    "    \"datetime_format\": \"%Y-%m-%d\",\n",
    "    \"file_name\": \"Datasets/fuel_with_fips.csv\",\n",
    "    \"data_fields_to_be_copied\": [\"percent\"]\n",
    "}\n",
    "\n",
    "\n",
    "# When compare the date between data sets, compare the following day delta \n",
    "date_delta_range = [0, -1, 1, -2, 2, -3, 3, -4, 4, -5, 5, -6, 6, -7, 7, -8, 8, -9, 9, -10, 10, -11, 11, -12, 12, -13, 13, -14, 14, -15, 15, -16, 16, -17, 17, -18, 18, -19, 19, -20, 20]\n"
   ]
  }
 ],
 "metadata": {
  "kernelspec": {
   "display_name": "Python 3",
   "language": "python",
   "name": "python3"
  },
  "language_info": {
   "codemirror_mode": {
    "name": "ipython",
    "version": 3
   },
   "file_extension": ".py",
   "mimetype": "text/x-python",
   "name": "python",
   "nbconvert_exporter": "python",
   "pygments_lexer": "ipython3",
   "version": "3.8.2"
  },
  "orig_nbformat": 4
 },
 "nbformat": 4,
 "nbformat_minor": 2
}
