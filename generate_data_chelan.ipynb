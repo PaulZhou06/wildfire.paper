{
 "cells": [
  {
   "cell_type": "code",
   "execution_count": 3,
   "metadata": {},
   "outputs": [
    {
     "name": "stdout",
     "output_type": "stream",
     "text": [
      "The dataset Datasets/merged_tp_precip_wind_fmc_Chelan.csv contains (row, column) = \n",
      "(5636, 15)\n",
      "The dataset Datasets/fuel_with_fips.csv contains (row, column) = \n",
      "(67172, 9)\n",
      "The county 53007 has 8 rows of data in the Datasets/fuel_with_fips.csv\n",
      "The county 53017 has 0 rows of data in the Datasets/fuel_with_fips.csv\n",
      "The county 53033 has 0 rows of data in the Datasets/fuel_with_fips.csv\n",
      "The county 53037 has 5 rows of data in the Datasets/fuel_with_fips.csv\n",
      "The county 53047 has 13 rows of data in the Datasets/fuel_with_fips.csv\n",
      "The county 53057 has 0 rows of data in the Datasets/fuel_with_fips.csv\n",
      "The county 53061 has 0 rows of data in the Datasets/fuel_with_fips.csv\n",
      "*** Using the adjacent county Okanogan County, 53047 of Chelan. It has 13 rows of data in the Datasets/fuel_with_fips.csv\n",
      "referral_dataset with fips 53047 = (13, 9)\n",
      "Add data to the original 2008-04-27 00:00:00 <- 2008-04-30  delta days 3: \n",
      "percent = 18\n",
      "Add data to the original 2008-04-26 00:00:00 <- 2008-04-30  delta days 4: \n",
      "percent = 18\n",
      "Saved to Datasets/merged_tp_precip_wind_fmc_Chelan.csv\n"
     ]
    }
   ],
   "source": [
    "# Define the important variables here\n",
    "import json\n",
    "import pandas as pd\n",
    "\n",
    "# Import the main functions \n",
    "from ipynb.fs.full.data_fill_up import *\n",
    "\n",
    "target = {\n",
    "    \"fips\": 53007,\n",
    "    \"target_county_name\": \"Chelan\",\n",
    "    \"date_column_name\": \"DATE\",\n",
    "    \"datetime_format\": \"%Y%m%d\",\n",
    "    \"file_name\": \"\",\n",
    "    \"target_data_field_name\": \"prcp\"\n",
    "}\n",
    "target['file_name'] = f\"Datasets/merged_tp_precip_wind_fmc_{target['target_county_name']}.csv\"\n",
    "\n",
    "# Use the adjacent county of the target county to find referral data like aws or fmc\n",
    "# Use the following link to find the adjacent county\n",
    "# https://gis.data.ca.gov/datasets/8713ced9b78a4abb97dc130a691a8695/explore?location=39.765076%2C-121.456785%2C8.00\n",
    "\n",
    "# prcp\n",
    "prcp_referral = {\n",
    "    \"fips_code\": 53007,\n",
    "    \"referral_county_name\": \"Skagit\",\n",
    "    \"fips_column_name\": \"county_fips\",\n",
    "    \"date_column_name\": \"date\",\n",
    "    \"datetime_format\": \"%Y%m%d\",\n",
    "    \"file_name\": \"Datasets/tp_zipcode_county.csv\",\n",
    "    \"data_fields_to_be_copied\": [\"prcp\", \"tmax\", \"tmin\", \"tavg\"]\n",
    "}\n",
    "\n",
    "# Wind aws\n",
    "wind_aws_referral = {\n",
    "    \"fips_code\": 53007,\n",
    "    \"referral_county_name\": \"Chelan\",\n",
    "    \"fips_column_name\": \"fips\",\n",
    "    \"date_column_name\": \"date\",\n",
    "    \"datetime_format\": \"%Y-%m-%d\",\n",
    "    \"file_name\": \"Datasets/wind_with_fips.csv\",\n",
    "    \"data_fields_to_be_copied\": [\"aws\"]\n",
    "}\n",
    "\n",
    "# fuel moisture content \n",
    "fmc_referral = {\n",
    "    \"fips_code\": 53007,\n",
    "    \"referral_county_name\": \"Chelan\",\n",
    "    \"fips_column_name\": \"fips\",\n",
    "    \"date_column_name\": \"date\",\n",
    "    \"datetime_format\": \"%Y-%m-%d\",\n",
    "    \"file_name\": \"Datasets/fuel_with_fips.csv\",\n",
    "    \"data_fields_to_be_copied\": [\"percent\"]\n",
    "}\n",
    "\n",
    "#\n",
    "# Main program\n",
    "#\n",
    "#  \n",
    "\n",
    "#generate_csv_for_fips(target)\n",
    "#merge_data_referral_to_target(target, prcp_referral) \n",
    "#merge_data_referral_to_target(target, wind_aws_referral)\n",
    "#merge_data_referral_to_target(target, fmc_referral)\n"
   ]
  },
  {
   "cell_type": "code",
   "execution_count": null,
   "metadata": {},
   "outputs": [],
   "source": []
  }
 ],
 "metadata": {
  "kernelspec": {
   "display_name": "Python 3 (ipykernel)",
   "language": "python",
   "name": "python3"
  },
  "language_info": {
   "codemirror_mode": {
    "name": "ipython",
    "version": 3
   },
   "file_extension": ".py",
   "mimetype": "text/x-python",
   "name": "python",
   "nbconvert_exporter": "python",
   "pygments_lexer": "ipython3",
   "version": "3.8.2"
  }
 },
 "nbformat": 4,
 "nbformat_minor": 4
}
